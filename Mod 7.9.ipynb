{
 "cells": [
  {
   "cell_type": "code",
   "execution_count": 59,
   "metadata": {},
   "outputs": [
    {
     "data": {
      "image/png": "[encoded data removed]",
      "text/plain": [
       "<Figure size 432x288 with 1 Axes>"
      ]
     },
     "metadata": {
      "needs_background": "light"
     },
     "output_type": "display_data"
    }
   ],
   "source": [
    "import pandas as pd\n",
    "import numpy as np\n",
    "import scipy\n",
    "import matplotlib.pyplot as plt\n",
    "%matplotlib inline\n",
    "\n",
    "# Central Limit Theorem: When sampling from a population, as the sample size gets larger the sample means approach\n",
    "# a normal distribution around the true population mean.\n",
    "\n",
    "#x1 = 0\n",
    "#x2 = 0\n",
    "#sd1 = 0\n",
    "#sd2 = 1\n",
    "#n1 = 1\n",
    "#n2 = 1\n",
    "#\n",
    "#y = x2 - x1\n",
    "#\n",
    "#standard_error = (((sd1**2)/n1)+((sd2**2)/n2))\n",
    "#\n",
    "#t_value = y/standard_error\n",
    "\n",
    "# Given a t-value, we can calculate the probability that a t-value at least this extreme would occur from chance,\n",
    "# called a p-value. The lower the p-value, the more confidently we can conclude that there is a meaningful\n",
    "# difference between the means.\n",
    "\n",
    "pop1 = np.random.exponential(10,10000)\n",
    "pop2 = np.random.exponential(2,10000)\n",
    "\n",
    "plt.hist(pop1, alpha=0.5, bins=6, label='population 1')\n",
    "plt.hist(pop2, alpha=0.5, bins=6, label='population 2')\n",
    "plt.legend(loc='upper right')\n",
    "plt.show()"
   ]
  },
  {
   "cell_type": "code",
   "execution_count": 60,
   "metadata": {},
   "outputs": [
    {
     "data": {
      "image/png": "[encoded data removed]",
      "text/plain": [
       "<Figure size 432x288 with 1 Axes>"
      ]
     },
     "metadata": {
      "needs_background": "light"
     },
     "output_type": "display_data"
    }
   ],
   "source": [
    "sample1 = np.random.choice(pop1, 100, replace=True)\n",
    "sample2 = np.random.choice(pop2, 100, replace=True)\n",
    "\n",
    "plt.hist(sample1, alpha=0.5, bins=6, label='sample 1')\n",
    "plt.hist(sample2, alpha=0.5, bins=6, label='sample 2')\n",
    "plt.legend(loc='upper right')\n",
    "plt.show()"
   ]
  },
  {
   "cell_type": "code",
   "execution_count": 61,
   "metadata": {},
   "outputs": [
    {
     "name": "stdout",
     "output_type": "stream",
     "text": [
      "sample 1 mean:\t\t\t11.019073455489712\n",
      "sample 2 mean:\t\t\t1.9548509311707858\n",
      "sample 1 standard deviation:\t10.352673631712833\n",
      "sample 2 standard deviation:\t1.9500011330146814\n",
      "Difference of sample means:\t-9.064222524318927\n"
     ]
    }
   ],
   "source": [
    "print('sample 1 mean:\\t\\t\\t' + str(sample1.mean()))\n",
    "print('sample 2 mean:\\t\\t\\t' + str(sample2.mean()))\n",
    "print('sample 1 standard deviation:\\t' + str(sample1.std()))\n",
    "print('sample 2 standard deviation:\\t' + str(sample2.std()))\n",
    "\n",
    "diff=sample2.mean() - sample1.mean()\n",
    "print('Difference of sample means:\\t' + str(diff))"
   ]
  },
  {
   "cell_type": "code",
   "execution_count": 62,
   "metadata": {},
   "outputs": [
    {
     "name": "stdout",
     "output_type": "stream",
     "text": [
      "-8.604140678043976\n",
      "Ttest_indResult(statistic=-8.56101188175179, pvalue=9.529817166890945e-14)\n"
     ]
    }
   ],
   "source": [
    "size = np.array([len(sample1), len(sample2)])\n",
    "sd = np.array([sample1.std(), sample2.std()])\n",
    "from scipy.stats import ttest_ind\n",
    "\n",
    "diff_se = (sum(sd ** 2 / size)) ** 0.5\n",
    "\n",
    "print(diff/diff_se)\n",
    "print(ttest_ind(sample2, sample1, equal_var=False))"
   ]
  },
  {
   "cell_type": "code",
   "execution_count": 63,
   "metadata": {},
   "outputs": [],
   "source": [
    "# *** ASSIGNMENT ***\n",
    "# 1. When I increased the sample sizes to 1000, the t-value tripled to about 48, and the p-value got so small the\n",
    "# computer called it 0. When I reduced the sample sizes to 20, the t-value became about 6, and the p-value\n",
    "# has 7 zeroes after the decimal as opposed to 35 zeroes for a sample size of 100. Even with a small sample\n",
    "# size of 20, we are extremely confident that these two samples were from different populations. The sample means and\n",
    "# standard deviations did not change significantly with the change in sample size\n",
    "#\n",
    "# 2. I changed the probability value for pop1 to 0.3, and it significantly affected the t-value and p-value.\n",
    "# The p-value only had 16 zeroes (is there a better technical way to say this) as opposed to the 35 zeroes from\n",
    "# from before. This is a signficant difference in confidence, although we are still very confident that\n",
    "# these samples are from different populations. When I changed it to 0.4 there were only 8 zeroes.\n",
    "#\n",
    "# 3. I tried an exponential distribution. It ended up swapping the size of the populations (as in sample 1 was now\n",
    "# bigger than sample 2) which ended up giving us a negative t-value...Is that OK mathematically speaking?"
   ]
  },
  {
   "cell_type": "code",
   "execution_count": null,
   "metadata": {},
   "outputs": [],
   "source": []
  }
 ],
 "metadata": {
  "kernelspec": {
   "display_name": "Python 3",
   "language": "python",
   "name": "python3"
  },
  "language_info": {
   "codemirror_mode": {
    "name": "ipython",
    "version": 3
   },
   "file_extension": ".py",
   "mimetype": "text/x-python",
   "name": "python",
   "nbconvert_exporter": "python",
   "pygments_lexer": "ipython3",
   "version": "3.7.3"
  }
 },
 "nbformat": 4,
 "nbformat_minor": 2
}
