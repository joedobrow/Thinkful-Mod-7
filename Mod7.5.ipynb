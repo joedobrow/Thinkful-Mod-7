{
 "cells": [
  {
   "cell_type": "code",
   "execution_count": 66,
   "metadata": {},
   "outputs": [],
   "source": [
    "import pandas as pd\n",
    "import numpy as np\n",
    "import matplotlib.pyplot as plt\n",
    "import statistics\n",
    "%matplotlib inline"
   ]
  },
  {
   "cell_type": "code",
   "execution_count": 102,
   "metadata": {},
   "outputs": [],
   "source": [
    "# I wanted to make my own functions to practice my python\n",
    "# Any critique is greatly appreciated (as always)\n",
    "\n",
    "def get_median(list):\n",
    "    list.sort()\n",
    "    if (len(list))/2 == (len(list))//2:\n",
    "        return (list[len(list)//2] + list[(len(list)//2) - 1])/2\n",
    "    else:\n",
    "        return list[len(list)//2]\n",
    "    \n",
    "def get_mean(list):\n",
    "    sum = 0\n",
    "    for i in list:\n",
    "        if type(i) != (int or float):\n",
    "            return 'Numbers only please!'\n",
    "        else:\n",
    "            sum += i\n",
    "    return (sum/len(list))\n",
    "\n",
    "#  takes a list parameter and returns a list of modes.\n",
    "def get_mode(list):\n",
    "    mode_dict = {}\n",
    "    max = 0\n",
    "    mode_array = []\n",
    "    \n",
    "    list.sort()\n",
    "    for i in list:\n",
    "        if i not in mode_dict:\n",
    "            mode_dict[i] = 1\n",
    "        else:\n",
    "            mode_dict[i] += 1\n",
    "    for i in mode_dict:\n",
    "        if mode_dict[i] > max:\n",
    "            max = mode_dict[i]\n",
    "    for i in mode_dict:\n",
    "        if mode_dict[i] == max:\n",
    "            mode_array.append(i)\n",
    "    return mode_array\n",
    "\n",
    "def get_variance(list):\n",
    "    list_mean = get_mean(list)\n",
    "    sum_squares = 0\n",
    "    \n",
    "    for i in list:\n",
    "        sum_squares += (i - list_mean)**2\n",
    "        \n",
    "    return sum_squares/(len(list)-1)\n",
    "\n",
    "def get_standard_deviation(list):\n",
    "    return get_variance(list) ** 0.5\n",
    "\n",
    "def get_standard_error(list):\n",
    "    return get_standard_deviation(list) / (len(list)**0.5)"
   ]
  },
  {
   "cell_type": "code",
   "execution_count": 72,
   "metadata": {},
   "outputs": [
    {
     "data": {
      "text/plain": [
       "7.476190476190475"
      ]
     },
     "execution_count": 72,
     "metadata": {},
     "output_type": "execute_result"
    }
   ],
   "source": [
    "brady = {'Greg':14, 'Marcia':12, 'Peter':11, 'Jan':10, 'Bobby':8, 'Cousin Oliver':8,'Cindy':6}\n",
    "brady_list = list(brady.values())"
   ]
  },
  {
   "cell_type": "code",
   "execution_count": 59,
   "metadata": {},
   "outputs": [
    {
     "name": "stdout",
     "output_type": "stream",
     "text": [
      "\tBRADY DESCRIPTIVES\n",
      "\n",
      "Mean:\t\t\t9.857142857142858\n",
      "Median:\t\t\t10\n",
      "Mode:\t\t\t8\n",
      "\n",
      "Variance:\t\t7.476190476190475\n",
      "Standard Deviation:\t2.734262327610589\n",
      "Standard Error:\t\t1.0334540197243192\n"
     ]
    }
   ],
   "source": [
    "# **** 1. ****\n",
    "print('\\tBRADY DESCRIPTIVES\\n\\nMean:\\t\\t\\t' + str(get_mean(brady_list)) + '\\nMedian:\\t\\t\\t' + str(get_median(brady_list)) + '\\nMode:\\t\\t\\t' + str(get_mode(brady_list)[0]) + '\\n\\nVariance:\\t\\t' + str(get_variance(brady_list)) + '\\nStandard Deviation:\\t' + str(get_standard_deviation(brady_list)) + '\\nStandard Error:\\t\\t' + str(get_standard_error(brady_list)))"
   ]
  },
  {
   "cell_type": "code",
   "execution_count": null,
   "metadata": {},
   "outputs": [],
   "source": [
    "#  **** 2. ****\n",
    "#  If I had to choose one measure of central tendency and one of variance\n",
    "#  I would choose the median, because it's a round number and easier for\n",
    "#  the layman to relate to, even if it's less mathematically useful, which\n",
    "#  is more important for this small data set.\n",
    "#  For variance, I would choose the standard deviation. This number indicates\n",
    "#  the spread nicely and shows that they're all close-ish to 10 years old and\n",
    "#  not too spread out."
   ]
  },
  {
   "cell_type": "code",
   "execution_count": 83,
   "metadata": {},
   "outputs": [
    {
     "name": "stdout",
     "output_type": "stream",
     "text": [
      "\tBRADY DESCRIPTIVES\n",
      "\n",
      "Mean:\t\t\t10.0\n",
      "Median:\t\t\t10\n",
      "Mode:\t\t\t8\n",
      "\n",
      "Variance:\t\t6.333333333333333\n",
      "Standard Deviation:\t2.516611478423583\n",
      "Standard Error:\t\t0.9511897312113418\n"
     ]
    }
   ],
   "source": [
    "#  **** 3. ****\n",
    "brady['Cindy'] = 7\n",
    "#  I have to run 'brady_list' line again to update. I'm sure there's a better way I could be coding this.\n",
    "brady_list = list(brady.values())\n",
    "print('\\tBRADY DESCRIPTIVES\\n\\nMean:\\t\\t\\t' + str(get_mean(brady_list)) + '\\nMedian:\\t\\t\\t' + str(get_median(brady_list)) + '\\nMode:\\t\\t\\t' + str(get_mode(brady_list)[0]) + '\\n\\nVariance:\\t\\t' + str(get_variance(brady_list)) + '\\nStandard Deviation:\\t' + str(get_standard_deviation(brady_list)) + '\\nStandard Error:\\t\\t' + str(get_standard_error(brady_list)))"
   ]
  },
  {
   "cell_type": "code",
   "execution_count": 95,
   "metadata": {},
   "outputs": [
    {
     "name": "stdout",
     "output_type": "stream",
     "text": [
      "\tBRADY DESCRIPTIVES\n",
      "\n",
      "Mean:\t\t\t9.0\n",
      "Median:\t\t\t10\n",
      "Mode:\t\t\t1\n",
      "\n",
      "Variance:\t\t18.0\n",
      "Standard Deviation:\t4.242640687119285\n",
      "Standard Error:\t\t1.6035674514745462\n"
     ]
    }
   ],
   "source": [
    "#  The median and the mode did not change. All of the other statistics changed\n",
    "#  Slightly. The mean went up because she got older, but the variance got smaller\n",
    "#  because she got closer to her siblings' ages.\n",
    "#\n",
    "#  **** 4. ****\n",
    "if 'Cousin Oliver' in brady:\n",
    "    brady.pop('Cousin Oliver')\n",
    "brady['Jessica'] = 1\n",
    "brady_list = list(brady.values())\n",
    "print('\\tBRADY DESCRIPTIVES\\n\\nMean:\\t\\t\\t' + str(get_mean(brady_list)) + '\\nMedian:\\t\\t\\t' + str(get_median(brady_list)) + '\\nMode:\\t\\t\\t' + str(get_mode(brady_list)[0]) + '\\n\\nVariance:\\t\\t' + str(get_variance(brady_list)) + '\\nStandard Deviation:\\t' + str(get_standard_deviation(brady_list)) + '\\nStandard Error:\\t\\t' + str(get_standard_error(brady_list)))\n"
   ]
  },
  {
   "cell_type": "code",
   "execution_count": 96,
   "metadata": {},
   "outputs": [
    {
     "data": {
      "text/plain": [
       "16.25"
      ]
     },
     "execution_count": 96,
     "metadata": {},
     "output_type": "execute_result"
    }
   ],
   "source": [
    "#  I know I was supposed to say that the mean was a better descriptor before\n",
    "#  because there weren't outliers, and the median is better now. My standard\n",
    "#  deviation looks a little too high now, but I still am not sure when to use\n",
    "#  standard error and that looks too low to be helpful.\n",
    "#\n",
    "#  **** 5. ****\n",
    "get_mean([20,23,17,5])"
   ]
  },
  {
   "cell_type": "code",
   "execution_count": null,
   "metadata": {},
   "outputs": [],
   "source": [
    "#  16.25%. Although I would say this is an extremely biased sample of\n",
    "#  adult Americans. My intuition is that magazine readers in general\n",
    "#  and more specifically magazine readers that answer surveys are\n",
    "#  more likely to be fans of The Brady Bunch than the general population."
   ]
  }
 ],
 "metadata": {
  "kernelspec": {
   "display_name": "Python 3",
   "language": "python",
   "name": "python3"
  },
  "language_info": {
   "codemirror_mode": {
    "name": "ipython",
    "version": 3
   },
   "file_extension": ".py",
   "mimetype": "text/x-python",
   "name": "python",
   "nbconvert_exporter": "python",
   "pygments_lexer": "ipython3",
   "version": "3.7.3"
  }
 },
 "nbformat": 4,
 "nbformat_minor": 2
}
