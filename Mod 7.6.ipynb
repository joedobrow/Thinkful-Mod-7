{
 "cells": [
  {
   "cell_type": "markdown",
   "metadata": {},
   "source": [
    "1. Theoretical Data Source: Amsterdam availability data scraped from AirBnB on December 24th.\n",
    "\n",
    "Question: What are the popular neighborhoods in Amsterdam?\n",
    "\n",
    "Data from December 24th, which is Christmas eve. This is an exceptional circumstance as it is a very important Christian Holiday and may dramatically affect avaiability of AirBnB. I would try to go back and scrape data from a different day, or maybe from multiple random days throughout the year.\n",
    "\n",
    "Is the question asking about popularity of AirBnB? Or popularity in general? Is AirBnB availability a good indicator of this? Maybe people like to sleep in one neighborhood and party in another? Maybe I can reframe the question as: 'What are the most popular neighborhoods to sleep in for your Christmas visit?'\n",
    "\n",
    "2. Theoretical Data Source: Mental health services use on September 12, 2001 in San Francisco, CA and New York City, NY.\n",
    "\n",
    "Question: How do patterns of mental health service use vary between cities?\n",
    "\n",
    "Data is from the day after 9/11, so a very abnormal day of data, especially for New York.\n",
    "\n",
    "3. Question: What are the most common reasons Armenians visit local pubs?\n",
    "\n",
    "This data is extremely biased in that it is almost entirely students that were polled, which probably does not represent the population of Armenians. It is not 'random.'"
   ]
  }
 ],
 "metadata": {
  "kernelspec": {
   "display_name": "Python 3",
   "language": "python",
   "name": "python3"
  },
  "language_info": {
   "codemirror_mode": {
    "name": "ipython",
    "version": 3
   },
   "file_extension": ".py",
   "mimetype": "text/x-python",
   "name": "python",
   "nbconvert_exporter": "python",
   "pygments_lexer": "ipython3",
   "version": "3.7.3"
  }
 },
 "nbformat": 4,
 "nbformat_minor": 2
}
